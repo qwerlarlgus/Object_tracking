{
  "nbformat": 4,
  "nbformat_minor": 0,
  "metadata": {
    "colab": {
      "name": "multiple_rois.ipynb",
      "provenance": [],
      "authorship_tag": "ABX9TyPBkSg1KL98cXhCyUxyUOOi",
      "include_colab_link": true
    },
    "kernelspec": {
      "name": "python3",
      "display_name": "Python 3"
    }
  },
  "cells": [
    {
      "cell_type": "markdown",
      "metadata": {
        "id": "view-in-github",
        "colab_type": "text"
      },
      "source": [
        "<a href=\"https://colab.research.google.com/github/qwerlarlgus/Object_tracking/blob/main/multiple_rois.ipynb\" target=\"_parent\"><img src=\"https://colab.research.google.com/assets/colab-badge.svg\" alt=\"Open In Colab\"/></a>"
      ]
    },
    {
      "cell_type": "code",
      "metadata": {
        "id": "aGBEoDWiowcA"
      },
      "source": [
        "import cv2\r\n",
        "refPt = []"
      ],
      "execution_count": null,
      "outputs": []
    },
    {
      "cell_type": "code",
      "metadata": {
        "id": "1WI6cYEYoyXc"
      },
      "source": [
        "def show():\r\n",
        "    global image, refPt\r\n",
        "    # create a copy so the drawn rectangles wont show up in subimages\r\n",
        "    img_copy = image.copy()\r\n",
        "    # create a subimage in a separate window\r\n",
        "    # similar code can be used that checks if 4 points are selected, then saves the subimages and exits script\r\n",
        "    i = 0\r\n",
        "    for rect in refPt:\r\n",
        "        subimage = img_copy[rect[0][1]:rect[1][1],rect[0][0]:rect[1][0]]\r\n",
        "        cv2.imshow(\"image\"+str(i), subimage)\r\n",
        "        i += 1\r\n",
        "    # draw rectangle on full image \r\n",
        "    for rect in refPt:\r\n",
        "        cv2.rectangle(img_copy, rect[0], rect[1], (0, 255, 0), 2)\r\n",
        "    # show full image\r\n",
        "    cv2.imshow(\"image\", img_copy)\r\n",
        "\r\n",
        "\r\n",
        "def click_and_crop(event, x, y, flags, param):\r\n",
        "    global refPt\r\n",
        "    if event == cv2.EVENT_LBUTTONUP:\r\n",
        "        # create tuples with two opposite cornerpoints and add to list\r\n",
        "        point_a = (x-70,y-70)\r\n",
        "        point_b = (x+70,y+70)\r\n",
        "        refPt.append((point_a,point_b))\r\n",
        "        # show images\r\n",
        "        show()\r\n",
        "\r\n",
        "\r\n",
        "# load and display image\r\n",
        "image = cv2.imread('frame0.jpg')\r\n",
        "#image = cv2.imread('opencv-template-matching-python-tutorial.jpg')\r\n",
        "cv2.namedWindow(\"image\")\r\n",
        "cv2.setMouseCallback(\"image\", click_and_crop)\r\n",
        "show()\r\n",
        "\r\n",
        "cv2.waitKey(0)\r\n",
        "cv2.destroyAllWindows()"
      ],
      "execution_count": null,
      "outputs": []
    }
  ]
}