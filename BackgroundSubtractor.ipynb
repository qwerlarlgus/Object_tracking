{
  "nbformat": 4,
  "nbformat_minor": 0,
  "metadata": {
    "colab": {
      "name": "BackgroundSubtractor.ipynb",
      "provenance": [],
      "authorship_tag": "ABX9TyPpn59Hy76l02H2SwvOrM85",
      "include_colab_link": true
    },
    "kernelspec": {
      "name": "python3",
      "display_name": "Python 3"
    }
  },
  "cells": [
    {
      "cell_type": "markdown",
      "metadata": {
        "id": "view-in-github",
        "colab_type": "text"
      },
      "source": [
        "<a href=\"https://colab.research.google.com/github/qwerlarlgus/Object_tracking/blob/main/BackgroundSubtractor.ipynb\" target=\"_parent\"><img src=\"https://colab.research.google.com/assets/colab-badge.svg\" alt=\"Open In Colab\"/></a>"
      ]
    },
    {
      "cell_type": "code",
      "metadata": {
        "id": "z2XvHPU1DFZl"
      },
      "source": [
        "### http://www.gisdeveloper.co.kr/?p=6862\r\n",
        "### https://docs.opencv.org/3.4/d2/d55/group__bgsegm.html"
      ],
      "execution_count": null,
      "outputs": []
    },
    {
      "cell_type": "code",
      "metadata": {
        "id": "8fnT6Fz9DMV9"
      },
      "source": [
        "import numpy as np\r\n",
        "import cv2\r\n",
        "\r\n",
        "cap = cv2.VideoCapture(\"B3-Parking.avi\")\r\n",
        "fgbg = cv2.createBackgroundSubtractorKNN(history=100, dist2Threshold = 12.0, detectShadows=False)\r\n",
        "while(1):\r\n",
        "    ret, frame = cap.read()\r\n",
        "    fgmask = fgbg.apply(frame)\r\n",
        "    cv2.imshow('frame',fgmask)\r\n",
        "    k = cv2.waitKey(30) & 0xff\r\n",
        "    if k == 27:\r\n",
        "        break\r\n",
        "cap.release()\r\n",
        "cv2.destroyAllWindows()"
      ],
      "execution_count": null,
      "outputs": []
    },
    {
      "cell_type": "code",
      "metadata": {
        "id": "gxSWUuUgNzXF"
      },
      "source": [
        ""
      ],
      "execution_count": null,
      "outputs": []
    }
  ]
}