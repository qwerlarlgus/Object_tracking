{ 
  "nbformat": 4,
  "nbformat_minor": 0,
  "metadata": {
    "colab": {
      "name": "BackgroundSub-Treshold-Contour.ipynb",
      "provenance": [],
      "authorship_tag": "ABX9TyOlQUvJsbRwQpFGBtV58Ary",
      "include_colab_link": true
    },
    "kernelspec": {
      "name": "python3",
      "display_name": "Python 3"
    }
  },
  "cells": [
    {
      "cell_type": "markdown",
      "metadata": {
        "id": "view-in-github",
        "colab_type": "text"
      },
      "source": [
        "<a href=\"https://colab.research.google.com/github/qwerlarlgus/Object_tracking/blob/main/BackgroundSub_Treshold_Contour.ipynb\" target=\"_parent\"><img src=\"https://colab.research.google.com/assets/colab-badge.svg\" alt=\"Open In Colab\"/></a>"
      ]
    },
    {
      "cell_type": "code",
      "metadata": {
        "id": "W__QrOmyDQ0J"
      },
      "source": [
        "### http://www.gisdeveloper.co.kr/?p=6862\r\n",
        "### https://docs.opencv.org/3.4/d2/d55/group__bgsegm.html"
      ],
      "execution_count": null,
      "outputs": []
    },
    {
      "cell_type": "code",
      "metadata": {
        "id": "PG1c7_FDDTkB"
      },
      "source": [
        "import numpy as np\r\n",
        "import cv2\r\n",
        "\r\n",
        "cap = cv2.VideoCapture(\"B3-Parking.avi\")\r\n",
        "fgbg = cv2.createBackgroundSubtractorKNN(history=100, dist2Threshold = 16.0, detectShadows=False)\r\n",
        "while(1):\r\n",
        "    ret, frame = cap.read()\r\n",
        "    fgmask = fgbg.apply(frame)\r\n",
        "    \r\n",
        "    _, fgmask = cv2.threshold(fgmask, 244, 255, cv2.THRESH_BINARY)\r\n",
        "    \r\n",
        "    contours, _ = cv2.findContours(fgmask, cv2.RETR_TREE, cv2.CHAIN_APPROX_SIMPLE)\r\n",
        "    detections = []\r\n",
        "    for cnt in contours:\r\n",
        "        # Calculate area and remove small elements\r\n",
        "        area = cv2.contourArea(cnt)\r\n",
        "        if area > 200:\r\n",
        "            #cv2.drawContours(roi, [cnt], -1, (0, 255, 0), 2)\r\n",
        "            x, y, w, h = cv2.boundingRect(cnt)\r\n",
        "\r\n",
        "\r\n",
        "            detections.append([x, y, w, h])\r\n",
        "\r\n",
        "    \r\n",
        "    cv2.imshow('frame',fgmask)\r\n",
        "    k = cv2.waitKey(30) & 0xff\r\n",
        "    if k == 27:\r\n",
        "        break\r\n",
        "cap.release()\r\n",
        "cv2.destroyAllWindows()"
      ],
      "execution_count": null,
      "outputs": []
    }
  ]
}
