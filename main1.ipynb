{ 
  "nbformat": 4,
  "nbformat_minor": 0,
  "metadata": {
    "colab": {
      "name": "main1.ipynb",
      "provenance": [],
      "authorship_tag": "ABX9TyOku3RI5iG1SxOlJrik3iLu",
      "include_colab_link": true
    },
    "kernelspec": {
      "name": "python3",
      "display_name": "Python 3"
    }
  },
  "cells": [
    {
      "cell_type": "markdown",
      "metadata": {
        "id": "view-in-github",
        "colab_type": "text"
      },
      "source": [
        "<a href=\"https://colab.research.google.com/github/qwerlarlgus/Object_tracking/blob/main/main1.ipynb\" target=\"_parent\"><img src=\"https://colab.research.google.com/assets/colab-badge.svg\" alt=\"Open In Colab\"/></a>"
      ]
    },
    {
      "cell_type": "code",
      "metadata": {
        "id": "udXp08pNGn6o"
      },
      "source": [
        "import math\r\n",
        "\r\n",
        "class EuclideanDistTracker:\r\n",
        "    def __init__(self):\r\n",
        "        # Store the center positions of the objects\r\n",
        "        self.center_points = {}\r\n",
        "        # Keep the count of the IDs\r\n",
        "        # each time a new object id detected, the count will increase by one\r\n",
        "        self.id_count = 0\r\n",
        "\r\n",
        "\r\n",
        "    def update(self, objects_rect):\r\n",
        "        # Objects boxes and ids\r\n",
        "        objects_bbs_ids = []\r\n",
        "\r\n",
        "        # Get center point of new object\r\n",
        "        for rect in objects_rect:\r\n",
        "            x, y, w, h = rect\r\n",
        "            cx = (x + x + w) // 2\r\n",
        "            cy = (y + y + h) // 2\r\n",
        "\r\n",
        "            # Find out if that object was detected already\r\n",
        "            same_object_detected = False\r\n",
        "            for id, pt in self.center_points.items():\r\n",
        "                dist = math.hypot(cx - pt[0], cy - pt[1])\r\n",
        "\r\n",
        "                if dist < 25:\r\n",
        "                    self.center_points[id] = (cx, cy)\r\n",
        "                    print(self.center_points)\r\n",
        "                    objects_bbs_ids.append([x, y, w, h, id])\r\n",
        "                    same_object_detected = True\r\n",
        "                    break\r\n",
        "\r\n",
        "            # New object is detected we assign the ID to that object\r\n",
        "            if same_object_detected is False:\r\n",
        "                self.center_points[self.id_count] = (cx, cy)\r\n",
        "                objects_bbs_ids.append([x, y, w, h, self.id_count])\r\n",
        "                self.id_count += 1\r\n",
        "\r\n",
        "        # Clean the dictionary by center points to remove IDS not used anymore\r\n",
        "        new_center_points = {}\r\n",
        "        for obj_bb_id in objects_bbs_ids:\r\n",
        "            _, _, _, _, object_id = obj_bb_id\r\n",
        "            center = self.center_points[object_id]\r\n",
        "            new_center_points[object_id] = center\r\n",
        "\r\n",
        "        # Update dictionary with IDs not used removed\r\n",
        "        self.center_points = new_center_points.copy()\r\n",
        "        return objects_bbs_ids"
      ],
      "execution_count": null,
      "outputs": []
    },
    {
      "cell_type": "code",
      "metadata": {
        "id": "Lvcv1tYEGsyr"
      },
      "source": [
        "import cv2\r\n",
        "#from tracker import *"
      ],
      "execution_count": null,
      "outputs": []
    },
    {
      "cell_type": "code",
      "metadata": {
        "id": "EuUBHQVkGs1S"
      },
      "source": [
        "# Create tracker object\r\n",
        "tracker = EuclideanDistTracker()\r\n",
        "\r\n",
        "cap = cv2.VideoCapture(\"B3-Parking.avi\")\r\n",
        "\r\n",
        "# Object detection from Stable camera\r\n",
        "object_detector = cv2.createBackgroundSubtractorMOG2(history=100, varThreshold=40)\r\n",
        "\r\n",
        "while True:\r\n",
        "    ret, frame = cap.read()\r\n",
        "    height, width, _ = frame.shape\r\n",
        "\r\n",
        "    # Extract Region of interest\r\n",
        "    roi = frame[100: 200, 10: 150]\r\n",
        "    # roi = frame[340: 720,500: 800]\r\n",
        "\r\n",
        "    # 1. Object Detection\r\n",
        "    mask = object_detector.apply(roi)\r\n",
        "    _, mask = cv2.threshold(mask, 254, 255, cv2.THRESH_BINARY)\r\n",
        "    contours, _ = cv2.findContours(mask, cv2.RETR_TREE, cv2.CHAIN_APPROX_SIMPLE)\r\n",
        "    detections = []\r\n",
        "    for cnt in contours:\r\n",
        "        # Calculate area and remove small elements\r\n",
        "        area = cv2.contourArea(cnt)\r\n",
        "        if area > 90:\r\n",
        "            #cv2.drawContours(roi, [cnt], -1, (0, 255, 0), 2)\r\n",
        "            x, y, w, h = cv2.boundingRect(cnt)\r\n",
        "\r\n",
        "\r\n",
        "            detections.append([x, y, w, h])\r\n",
        "\r\n",
        "    # 2. Object Tracking\r\n",
        "    boxes_ids = tracker.update(detections)\r\n",
        "    for box_id in boxes_ids:\r\n",
        "        x, y, w, h, id = box_id\r\n",
        "        cv2.putText(roi, str(id), (x, y - 15), cv2.FONT_HERSHEY_PLAIN, 2, (255, 0, 0), 2)\r\n",
        "        cv2.rectangle(roi, (x, y), (x + w, y + h), (0, 255, 0), 3)\r\n",
        "\r\n",
        "    cv2.imshow(\"roi\", roi)\r\n",
        "    cv2.imshow(\"Frame\", frame)\r\n",
        "    cv2.imshow(\"Mask\", mask)\r\n",
        "\r\n",
        "    key = cv2.waitKey(30)\r\n",
        "    if key == 27:\r\n",
        "        break\r\n",
        "\r\n",
        "cap.release()\r\n",
        "cv2.destroyAllWindows()"
      ],
      "execution_count": null,
      "outputs": []
    }
  ]
}
