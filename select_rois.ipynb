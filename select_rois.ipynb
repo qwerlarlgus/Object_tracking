{ 
  "nbformat": 4,
  "nbformat_minor": 0,
  "metadata": {
    "colab": {
      "name": "select_rois.ipynb",
      "provenance": [],
      "authorship_tag": "ABX9TyMyQHu9OtVyNBGK7swu3RJz",
      "include_colab_link": true
    },
    "kernelspec": {
      "name": "python3",
      "display_name": "Python 3"
    }
  },
  "cells": [
    {
      "cell_type": "markdown",
      "metadata": {
        "id": "view-in-github",
        "colab_type": "text"
      },
      "source": [
        "<a href=\"https://colab.research.google.com/github/qwerlarlgus/Object_tracking/blob/main/select_rois.ipynb\" target=\"_parent\"><img src=\"https://colab.research.google.com/assets/colab-badge.svg\" alt=\"Open In Colab\"/></a>"
      ]
    },
    {
      "cell_type": "code",
      "metadata": {
        "id": "8cqITdjBofoN"
      },
      "source": [
        "import cv2\r\n",
        "import numpy as np\r\n",
        " \r\n",
        " #image_path\r\n",
        "img_path=\"frame0.jpg\"\r\n",
        " \r\n",
        "#read image\r\n",
        "img_raw = cv2.imread(img_path)\r\n",
        " \r\n",
        "#select ROI function\r\n",
        "roi = cv2.selectROI(img_raw)\r\n",
        " \r\n",
        "#print rectangle points of selected roi\r\n",
        "print(roi)\r\n",
        " \r\n",
        "#Crop selected roi from raw image\r\n",
        "roi_cropped = img_raw[int(roi[1]):int(roi[1]+roi[3]), int(roi[0]):int(roi[0]+roi[2])]\r\n",
        " \r\n",
        "#show cropped image\r\n",
        "cv2.imshow(\"ROI\", roi_cropped)\r\n",
        " \r\n",
        "cv2.imwrite(\"crop.jpg\",roi_cropped)\r\n",
        " \r\n",
        "#hold window\r\n",
        "cv2.waitKey(0)"
      ],
      "execution_count": null,
      "outputs": []
    }
  ]
}
