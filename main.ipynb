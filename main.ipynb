{ 
  "nbformat": 4,
  "nbformat_minor": 0,
  "metadata": {
    "colab": {
      "name": "main.ipynb",
      "provenance": [],
      "authorship_tag": "ABX9TyMbPss6l+EyPfSFXbRFbj4X",
      "include_colab_link": true
    },
    "kernelspec": {
      "name": "python3",
      "display_name": "Python 3"
    }
  },
  "cells": [
    {
      "cell_type": "markdown",
      "metadata": {
        "id": "view-in-github",
        "colab_type": "text"
      },
      "source": [
        "<a href=\"https://colab.research.google.com/github/qwerlarlgus/Object_tracking/blob/main/main.ipynb\" target=\"_parent\"><img src=\"https://colab.research.google.com/assets/colab-badge.svg\" alt=\"Open In Colab\"/></a>"
      ]
    },
    {
      "cell_type": "code",
      "metadata": {
        "id": "5GoSRZW0H7yu"
      },
      "source": [
        "import cv2\r\n",
        "from tracker import *"
      ],
      "execution_count": null,
      "outputs": []
    },
    {
      "cell_type": "code",
      "metadata": {
        "id": "69kpqsq9H9Qj"
      },
      "source": [
        "# Create tracker object\r\n",
        "tracker = EuclideanDistTracker()\r\n",
        "\r\n",
        "cap = cv2.VideoCapture(\"highway.mp4\")\r\n",
        "\r\n",
        "# Object detection from Stable camera\r\n",
        "object_detector = cv2.createBackgroundSubtractorMOG2(history=100, varThreshold=40)\r\n",
        "\r\n",
        "while True:\r\n",
        "    ret, frame = cap.read()\r\n",
        "    height, width, _ = frame.shape\r\n",
        "\r\n",
        "    # Extract Region of interest\r\n",
        "    roi = frame[340: 720,500: 800]\r\n",
        "\r\n",
        "    # 1. Object Detection\r\n",
        "    mask = object_detector.apply(roi)\r\n",
        "    _, mask = cv2.threshold(mask, 254, 255, cv2.THRESH_BINARY)\r\n",
        "    contours, _ = cv2.findContours(mask, cv2.RETR_TREE, cv2.CHAIN_APPROX_SIMPLE)\r\n",
        "    detections = []\r\n",
        "    for cnt in contours:\r\n",
        "        # Calculate area and remove small elements\r\n",
        "        area = cv2.contourArea(cnt)\r\n",
        "        if area > 100:\r\n",
        "            #cv2.drawContours(roi, [cnt], -1, (0, 255, 0), 2)\r\n",
        "            x, y, w, h = cv2.boundingRect(cnt)\r\n",
        "\r\n",
        "\r\n",
        "            detections.append([x, y, w, h])\r\n",
        "\r\n",
        "    # 2. Object Tracking\r\n",
        "    boxes_ids = tracker.update(detections)\r\n",
        "    for box_id in boxes_ids:\r\n",
        "        x, y, w, h, id = box_id\r\n",
        "        cv2.putText(roi, str(id), (x, y - 15), cv2.FONT_HERSHEY_PLAIN, 2, (255, 0, 0), 2)\r\n",
        "        cv2.rectangle(roi, (x, y), (x + w, y + h), (0, 255, 0), 3)\r\n",
        "\r\n",
        "    cv2.imshow(\"roi\", roi)\r\n",
        "    cv2.imshow(\"Frame\", frame)\r\n",
        "    cv2.imshow(\"Mask\", mask)\r\n",
        "\r\n",
        "    key = cv2.waitKey(30)\r\n",
        "    if key == 27:\r\n",
        "        break\r\n",
        "\r\n",
        "cap.release()\r\n",
        "cv2.destroyAllWindows()"
      ],
      "execution_count": null,
      "outputs": []
    }
  ]
}
