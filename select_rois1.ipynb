{
  "nbformat": 4,
  "nbformat_minor": 0,
  "metadata": {
    "colab": {
      "name": "select_rois1.ipynb",
      "provenance": [],
      "authorship_tag": "ABX9TyOdCFAG6vT54uNF11BnYFkZ",
      "include_colab_link": true
    },
    "kernelspec": {
      "name": "python3",
      "display_name": "Python 3"
    },
    "accelerator": "GPU"
  },
  "cells": [
    {
      "cell_type": "markdown",
      "metadata": {
        "id": "view-in-github",
        "colab_type": "text"
      },
      "source": [
        "<a href=\"https://colab.research.google.com/github/qwerlarlgus/Object_tracking/blob/main/select_rois1.ipynb\" target=\"_parent\"><img src=\"https://colab.research.google.com/assets/colab-badge.svg\" alt=\"Open In Colab\"/></a>"
      ]
    },
    {
      "cell_type": "code",
      "metadata": {
        "id": "Y707eR0VtdLv"
      },
      "source": [
        "import cv2\r\n",
        "import numpy as np\r\n",
        " \r\n",
        "#image_path\r\n",
        "img_path=\"frame0.jpg\"\r\n"
      ],
      "execution_count": null,
      "outputs": []
    },
    {
      "cell_type": "code",
      "metadata": {
        "id": "Zu4FC7d4tfxb"
      },
      "source": [
        "#read image\r\n",
        "img_raw = cv2.imread(img_path)\r\n",
        " \r\n",
        "#select ROIs function\r\n",
        "ROIs = cv2.selectROIs(\"Select Rois\",img_raw)\r\n",
        " \r\n",
        "#print rectangle points of selected roi\r\n",
        "print(ROIs)"
      ],
      "execution_count": null,
      "outputs": []
    },
    {
      "cell_type": "code",
      "metadata": {
        "id": "B9onhtyXtfzb"
      },
      "source": [
        "#Crop selected roi ffrom raw image\r\n",
        " \r\n",
        "#counter to save image with different name\r\n",
        "crop_number=0 \r\n",
        " \r\n",
        "#loop over every bounding box save in array \"ROIs\"\r\n",
        "for rect in ROIs:\r\n",
        " x1=rect[0]\r\n",
        " y1=rect[1]\r\n",
        " x2=rect[2]\r\n",
        " y2=rect[3]\r\n",
        "\r\n",
        " \r\n",
        "        #crop roi from original image\r\n",
        " img_crop=img_raw[y1:y1+y2,x1:x1+x2]\r\n",
        " \r\n",
        "        #show cropped image\r\n",
        "        cv2.imshow(\"crop\"+str(crop_number),img_crop)\r\n",
        " \r\n",
        " #save cropped image\r\n",
        " cv2.imwrite(\"crop\"+str(crop_number)+\".jpg\",img_crop)\r\n",
        "        \r\n",
        " crop_number+=1\r\n",
        " \r\n",
        "#hold window\r\n",
        "cv2.waitKey(0)"
      ],
      "execution_count": null,
      "outputs": []
    }
  ]
}