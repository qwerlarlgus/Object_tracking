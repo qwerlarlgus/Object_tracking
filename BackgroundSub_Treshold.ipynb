{ 
  "nbformat": 4,
  "nbformat_minor": 0,
  "metadata": {
    "colab": {
      "name": "BackgroundSub-Treshold.ipynb",
      "provenance": [],
      "authorship_tag": "ABX9TyPZPqWhuqM2RVa9Bywjl9eA",
      "include_colab_link": true
    },
    "kernelspec": {
      "name": "python3",
      "display_name": "Python 3"
    }
  },
  "cells": [
    {
      "cell_type": "markdown",
      "metadata": {
        "id": "view-in-github",
        "colab_type": "text"
      },
      "source": [
        "<a href=\"https://colab.research.google.com/github/qwerlarlgus/Object_tracking/blob/main/BackgroundSub_Treshold.ipynb\" target=\"_parent\"><img src=\"https://colab.research.google.com/assets/colab-badge.svg\" alt=\"Open In Colab\"/></a>"
      ]
    },
    {
      "cell_type": "code",
      "metadata": {
        "id": "Xg99vEAqDQ71"
      },
      "source": [
        "### http://www.gisdeveloper.co.kr/?p=6862\r\n",
        "### https://docs.opencv.org/3.4/d2/d55/group__bgsegm.html"
      ],
      "execution_count": null,
      "outputs": []
    },
    {
      "cell_type": "code",
      "metadata": {
        "id": "DXwuH3oeDX2y"
      },
      "source": [
        "import numpy as np\r\n",
        "import cv2\r\n",
        "\r\n",
        "cap = cv2.VideoCapture(\"B3-Parking.avi\")\r\n",
        "fgbg = cv2.createBackgroundSubtractorKNN(history=100, dist2Threshold = 16.0, detectShadows=False)\r\n",
        "\r\n",
        "while(1):\r\n",
        "    ret, frame = cap.read()\r\n",
        "    fgmask = fgbg.apply(frame)\r\n",
        "    \r\n",
        " #   _, fgmask = cv2.threshold(fgmask, 244, 255, cv2.THRESH_BINARY)\r\n",
        "    \r\n",
        "    cv2.imshow('frame',fgmask)\r\n",
        "    k = cv2.waitKey(30) & 0xff\r\n",
        "    if k == 27:\r\n",
        "        break\r\n",
        "cap.release()\r\n",
        "cv2.destroyAllWindows()"
      ],
      "execution_count": null,
      "outputs": []
    },
    {
      "cell_type": "code",
      "metadata": {
        "id": "m0iZBEqzOKts"
      },
      "source": [
        ""
      ],
      "execution_count": null,
      "outputs": []
    }
  ]
}
