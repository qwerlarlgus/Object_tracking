{
  "nbformat": 4,
  "nbformat_minor": 0,
  "metadata": {
    "colab": {
      "name": "tracker.ipynb",
      "provenance": [],
      "authorship_tag": "ABX9TyNZ53W6PQXd+52i3+LHQfSL",
      "include_colab_link": true
    },
    "kernelspec": {
      "name": "python3",
      "display_name": "Python 3"
    }
  },
  "cells": [
    {
      "cell_type": "markdown",
      "metadata": {
        "id": "view-in-github",
        "colab_type": "text"
      },
      "source": [
        "<a href=\"https://colab.research.google.com/github/qwerlarlgus/Object_tracking/blob/main/tracker.ipynb\" target=\"_parent\"><img src=\"https://colab.research.google.com/assets/colab-badge.svg\" alt=\"Open In Colab\"/></a>"
      ]
    },
    {
      "cell_type": "code",
      "metadata": {
        "id": "Nw1P9noKHd5U"
      },
      "source": [
        "import math\r\n",
        "\r\n",
        "\r\n",
        "class EuclideanDistTracker:\r\n",
        "    def __init__(self):\r\n",
        "        # Store the center positions of the objects\r\n",
        "        self.center_points = {}\r\n",
        "        # Keep the count of the IDs\r\n",
        "        # each time a new object id detected, the count will increase by one\r\n",
        "        self.id_count = 0\r\n",
        "\r\n",
        "\r\n",
        "    def update(self, objects_rect):\r\n",
        "        # Objects boxes and ids\r\n",
        "        objects_bbs_ids = []\r\n",
        "\r\n",
        "        # Get center point of new object\r\n",
        "        for rect in objects_rect:\r\n",
        "            x, y, w, h = rect\r\n",
        "            cx = (x + x + w) // 2\r\n",
        "            cy = (y + y + h) // 2\r\n",
        "\r\n",
        "            # Find out if that object was detected already\r\n",
        "            same_object_detected = False\r\n",
        "            for id, pt in self.center_points.items():\r\n",
        "                dist = math.hypot(cx - pt[0], cy - pt[1])\r\n",
        "\r\n",
        "                if dist < 25:\r\n",
        "                    self.center_points[id] = (cx, cy)\r\n",
        "                    print(self.center_points)\r\n",
        "                    objects_bbs_ids.append([x, y, w, h, id])\r\n",
        "                    same_object_detected = True\r\n",
        "                    break\r\n",
        "\r\n",
        "            # New object is detected we assign the ID to that object\r\n",
        "            if same_object_detected is False:\r\n",
        "                self.center_points[self.id_count] = (cx, cy)\r\n",
        "                objects_bbs_ids.append([x, y, w, h, self.id_count])\r\n",
        "                self.id_count += 1\r\n",
        "\r\n",
        "        # Clean the dictionary by center points to remove IDS not used anymore\r\n",
        "        new_center_points = {}\r\n",
        "        for obj_bb_id in objects_bbs_ids:\r\n",
        "            _, _, _, _, object_id = obj_bb_id\r\n",
        "            center = self.center_points[object_id]\r\n",
        "            new_center_points[object_id] = center\r\n",
        "\r\n",
        "        # Update dictionary with IDs not used removed\r\n",
        "        self.center_points = new_center_points.copy()\r\n",
        "        return objects_bbs_ids"
      ],
      "execution_count": null,
      "outputs": []
    }
  ]
}